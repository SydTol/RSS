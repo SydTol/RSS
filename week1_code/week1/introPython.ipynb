{
 "cells": [
  {
   "cell_type": "markdown",
   "metadata": {},
   "source": [
    "### Hello world"
   ]
  },
  {
   "cell_type": "code",
   "execution_count": null,
   "metadata": {},
   "outputs": [],
   "source": [
    "a=['I like Edinburgh', ', ']\n",
    "b=['but the weather is not so good', '.']\n",
    "print(a)\n",
    "print(b)\n",
    "\n",
    "c=a+b # add two lists of strings into one\n",
    "print(c)\n",
    "print(''.join(c))"
   ]
  },
  {
   "cell_type": "markdown",
   "metadata": {},
   "source": [
    "### Load packages"
   ]
  },
  {
   "cell_type": "code",
   "execution_count": null,
   "metadata": {},
   "outputs": [],
   "source": [
    "import numpy as np\n",
    "import math as mt # now you can use all math operators\n",
    "import matplotlib.pyplot as plt"
   ]
  },
  {
   "cell_type": "markdown",
   "metadata": {},
   "source": [
    "### Read-Write files"
   ]
  },
  {
   "cell_type": "code",
   "execution_count": null,
   "metadata": {},
   "outputs": [],
   "source": [
    "f = open('data/test.txt','w') #w re-creates a file, a appends a file\n",
    "f.write('RSS Experiment Data \\n')\n",
    "f.close()\n",
    "\n",
    "# Note: with numpy's savetext,\n",
    "# Data to be saved (input X) should be *array*\n",
    "word = ['RSS Experiment Data']\n",
    "np.savetxt('data/readwrite.txt', word, fmt='%s')\n",
    "\n",
    "# data = loadtxt(path+'data.txt')\n",
    "data = np.loadtxt('data/data.txt')\n",
    "print('data:', data)\n",
    "np.random.shuffle(data)\n",
    "newdata=data\n",
    "print('newdata:', newdata)\n",
    "np.savetxt('data/newdata.txt', newdata)\n",
    "\n",
    "# save data and comments\n",
    "names  = np.array(['NAME_1', 'NAME_2', 'NAME_3', 'NAME_4', 'NAME_5'])\n",
    "stack = np.zeros(names.size, dtype=[('var1', 'S6'), ('var2', float)])\n",
    "stack['var1'] = names\n",
    "stack['var2'] = newdata\n",
    "\n",
    "np.savetxt('data/stack.txt', stack, fmt=\"%6s %f\")"
   ]
  },
  {
   "cell_type": "markdown",
   "metadata": {},
   "source": [
    "### Define functions and use ifelse_loop"
   ]
  },
  {
   "cell_type": "code",
   "execution_count": null,
   "metadata": {},
   "outputs": [],
   "source": [
    "def createData():\n",
    "    # Amplitude    \n",
    "    A=10\n",
    "    # ω = 2πf is the angular frequency,\n",
    "    f=1.0 \n",
    "    # time    \n",
    "    t=np.linspace(0.0, 2.0, num=200)\n",
    "    x=[]\n",
    "    for i in range(0,t.size) :\n",
    "        a=generatorFunc(A, f, t[i])\n",
    "        if a<0:\n",
    "            a=-a\n",
    "        x.append(a)\n",
    "    return t,x\n",
    "\n",
    "def generatorFunc(A, f, t):\n",
    "    x=A*np.sin(2*np.pi*f*t)\n",
    "    return x\n",
    "        \n",
    "def plotingFunc(t,x):\n",
    "#   plt.close(\"all\")\n",
    "    plt.figure(num=None, figsize=(16.0, 10.0), dpi=80, facecolor='w', frameon=None, edgecolor=None, tight_layout=True)\n",
    "    plt.plot(t, x, c='r', linewidth=1.5)\n",
    "    plt.plot(t, x, 'o', linewidth=1.5)\n",
    "    plt.xlabel('Time (t)', fontsize=18)\n",
    "    plt.ylabel('f(t)', fontsize=18)\n",
    "    plt.show() # must execute this command to visualize"
   ]
  },
  {
   "cell_type": "markdown",
   "metadata": {},
   "source": [
    "### Use the functions above to plot the data points"
   ]
  },
  {
   "cell_type": "code",
   "execution_count": null,
   "metadata": {},
   "outputs": [],
   "source": [
    "t,x = createData()\n",
    "plotingFunc(t,x)"
   ]
  },
  {
   "cell_type": "markdown",
   "metadata": {},
   "source": [
    "### Intro Matrix"
   ]
  },
  {
   "cell_type": "code",
   "execution_count": null,
   "metadata": {},
   "outputs": [],
   "source": [
    "# exercise matrix operation for complex computing\n",
    "\n",
    "# zero matrix\n",
    "a = np.zeros((2,3))   # 2 by 3 zero matrix\n",
    "print(\"Matrix a is: \\n\",a)  # Prints \"[[ 0.  0.]\n",
    "                            #          [ 0.  0.]]\"\n",
    "\n",
    "b = np.ones((1,3))    # 1 row, 3 columns\n",
    "print(\"Matrix b is: \\n\",b)           # Prints \"[[ 1.  1.  1.]]\"\n",
    "\n",
    "b = np.ones((3,1))    # 3 row, 1 columns\n",
    "print(\"Matrix b is: \\n\",b)  # Prints \n",
    "                            #[[ 1.]\n",
    "                            ## [ 1.]\n",
    "                            ## [ 1.]]\n",
    "\n",
    "c = np.full((2,2), 100)  # Create a constant array\n",
    "print(\"Matrix c is: \\n\",c)        # Prints \"[[ 100.  100.]\n",
    "                                  #          [ 100. 100.]]\"\n",
    "\n",
    "d = np.eye(2)         # Create a 2x2 identity matrix\n",
    "print(\"Matrix d is: \\n\",d)        # Prints \"[[ 1.  0.]\n",
    "                                  #          [ 0.  1.]]\"\n",
    "# random is a class, .random generates random floating point number in the range [0.0, 1.0)\n",
    "e = np.random.random((2,3))  # 2 by 3 matrix with random values\n",
    "print(\"Matrix e is: \\n\",e)  \n"
   ]
  },
  {
   "cell_type": "markdown",
   "metadata": {},
   "source": [
    "### Intro Matrix2 "
   ]
  },
  {
   "cell_type": "code",
   "execution_count": null,
   "metadata": {},
   "outputs": [],
   "source": [
    "def cmp(a, b):\n",
    "    return (a > b) - (a < b) \n",
    "\n",
    "print(\"Compare 1 with 2: \", cmp(1, 2), '\\n') # smaller -1, equal 0, greater 1"
   ]
  },
  {
   "cell_type": "code",
   "execution_count": null,
   "metadata": {},
   "outputs": [],
   "source": [
    "# exercise common math operation\n",
    "a=[1, 3, 4]\n",
    "print(\"Summation of all elements of vector a: \",sum(a), '\\n')\n",
    "\n",
    "b=np.array(a)\n",
    "print(\"Element-wise square of vector a: \",b**2)\n",
    "\n",
    "\n",
    "# .uniform(a,b) generates random floating point number b <= N <= a\n",
    "f = np.random.uniform(50,100)  \n",
    "print(\"Sample uniformly in the range 50 to 100: \",f, '\\n')\n",
    "\n",
    "# make a list \n",
    "items = [1, 2, 3, 4, 5, 6, 7]\n",
    "np.random.shuffle(items)\n",
    "print(\"Shuffle the elements of the list: \",items, '\\n')\n",
    "\n",
    "# build a list which is concatanation of two \"items\" lists in one row\n",
    "data = items+items\n",
    "print(\"Are all elements non-zero: \",all(data), '\\n') # prints false, if there is a 0 element in the list\n",
    "\n",
    "print('The type of the python object is: ', type(data))\n",
    "\n",
    "print('The length of the list is: ', len(data))\n",
    "\n",
    "print('The shape of the list is: ', np.shape(data))\n",
    "\n",
    "print('The size of the list is: ', np.size(data))\n",
    "\n",
    "print(\"\\n\")\n",
    "\n",
    "# build a list which is concatanation of two \"items\" lists in two rows\n",
    "data2 = [items,items]\n",
    "\n",
    "print('The type of the python object is: ', type(data2))\n",
    "\n",
    "print('The length of the list is: ', len(data2))\n",
    "\n",
    "print('The shape of the list is: ', np.shape(data2))\n",
    "\n",
    "print('The size of the list is: ', np.size(data2))\n",
    "\n"
   ]
  },
  {
   "cell_type": "markdown",
   "metadata": {},
   "source": [
    "### Define a 2D rotation matrix"
   ]
  },
  {
   "cell_type": "code",
   "execution_count": null,
   "metadata": {},
   "outputs": [],
   "source": [
    "def rotationMatrix2D(theta):\n",
    "    R_mat = [[np.cos(theta), -np.sin(theta)],\\\n",
    "             [np.sin(theta),np.cos(theta)]]\n",
    "    return R_mat\n",
    "    "
   ]
  },
  {
   "cell_type": "code",
   "execution_count": null,
   "metadata": {},
   "outputs": [],
   "source": [
    "v = np.array([1,0])\n",
    "\n",
    "plt.figure()\n",
    "plt.plot(0,0,\".\",markersize=10)\n",
    "plt.arrow(0, 0, v[0], v[1], head_width=0.05, head_length=0.1, fc='k', ec='k')\n",
    "plt.xlim((-2,2))\n",
    "plt.ylim((-2,2))\n",
    "plt.show()"
   ]
  },
  {
   "cell_type": "markdown",
   "metadata": {},
   "source": [
    "#### Rotate vector v 50 degrees"
   ]
  },
  {
   "cell_type": "code",
   "execution_count": null,
   "metadata": {},
   "outputs": [],
   "source": [
    "theta = np.deg2rad(50)\n",
    "R = rotationMatrix2D(theta)\n",
    "\n",
    "new_v = np.dot(R,v)\n",
    "\n",
    "plt.figure()\n",
    "plt.plot(0,0,\".\",markersize=10)\n",
    "plt.arrow(0, 0, new_v[0], new_v[1], head_width=0.05, head_length=0.1, fc='k', ec='k')\n",
    "plt.xlim((-2,2))\n",
    "plt.ylim((-2,2))\n",
    "plt.show()"
   ]
  }
 ],
 "metadata": {
  "kernelspec": {
   "display_name": "Python 3",
   "language": "python",
   "name": "python3"
  },
  "language_info": {
   "codemirror_mode": {
    "name": "ipython",
    "version": 3
   },
   "file_extension": ".py",
   "mimetype": "text/x-python",
   "name": "python",
   "nbconvert_exporter": "python",
   "pygments_lexer": "ipython3",
   "version": "3.7.4"
  }
 },
 "nbformat": 4,
 "nbformat_minor": 2
}
