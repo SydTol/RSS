{
 "cells": [
  {
   "cell_type": "markdown",
   "metadata": {},
   "source": [
    "# Tutorial 4: Path Planning\n",
    "The previous tutorials focused on localization, one of the key domains of mobile robotics. This week we will be looking at the other key domain of mobile robotics, navigation, which is the problem of guiding a robot towards a specific goal using a map. Map-based navigation is also called motion or path planning. "
   ]
  },
  {
   "cell_type": "markdown",
   "metadata": {},
   "source": [
    "# Part A: Graph Search Algorithms"
   ]
  },
  {
   "cell_type": "markdown",
   "metadata": {},
   "source": [
    "## Import Packages"
   ]
  },
  {
   "cell_type": "code",
   "execution_count": null,
   "metadata": {},
   "outputs": [],
   "source": [
    "import math\n",
    "import numpy as np\n",
    "import matplotlib.pyplot as plt\n",
    "%matplotlib notebook"
   ]
  },
  {
   "cell_type": "markdown",
   "metadata": {},
   "source": [
    "## Outline of Part A\n",
    "The first part of the tutorial considers Graph Search algorithms, which are a type of algorithm used for path planning. Below are the learning objectives to be achieved by the end of this part of the tutorial.\n",
    "\n",
    "**Objectives:**\n",
    "* Implement graph search algorithms for robot motion planning in discretized state-spaces \n",
    "* Learn the differences between Dijkstra's and A* algorithms"
   ]
  },
  {
   "cell_type": "markdown",
   "metadata": {},
   "source": [
    "## A* Algorithm\n",
    "\n",
    "**Main idea:**\n",
    "* Encode grid-like (discrete) state space onto a graph\n",
    "* Find the shortest path from the start node to goal node by traversing the graph\n",
    "\n",
    "**Description:**\n",
    "* The implementation of informed-search algorithms like Dijkstra's and A* use a priority queue to keep track and identify the best node from the search frontier to expand from. This priority queue is known as the open set or fringe. At each step of the algorithm, the best node is removed from the queue, the cost values of its neighbors are updated, and these neighbors are added to the queue (search frontier).\n",
    "\n",
    "**Main difference between Dijkstra's and A* algorithm:**\n",
    "* A* algorithm uses an additional heuristic to guide its search for a better performance, which is more efficient than the Dijkstra's algorithm, because it doesn’t need to visit every node of the graph."
   ]
  },
  {
   "cell_type": "markdown",
   "metadata": {},
   "source": [
    "Grid world navigation      |  Graph-based representation\n",
    ":-------------------------:|:-------------------------:\n",
    "<img src=\"images/path-finding.jpg\" style=\"width: 400px;\">  |  <img src=\"images/tree_expansion.png\" style=\"width: 400px;\">"
   ]
  },
  {
   "cell_type": "markdown",
   "metadata": {},
   "source": [
    "## A* Pseudocode\n",
    "\n",
    "<img src=\"images/Astar.jpg\" style=\"width: 600px;\"> "
   ]
  },
  {
   "cell_type": "markdown",
   "metadata": {},
   "source": [
    "##### Use and explore graph search algorithm \n",
    "\n",
    "Follow the link below to explore graph search algorithm, like Dijkstra and A* \n",
    "\n",
    "https://qiao.github.io/PathFinding.js/visual/"
   ]
  },
  {
   "cell_type": "markdown",
   "metadata": {},
   "source": [
    "### Implementation"
   ]
  },
  {
   "cell_type": "code",
   "execution_count": null,
   "metadata": {},
   "outputs": [],
   "source": [
    "class GraphSearch:\n",
    "\n",
    "    def __init__(self, ox, oy, reso, rr):\n",
    "        \"\"\"\n",
    "        Initialize map for a star planning\n",
    "        ox: x position list of Obstacles [m]\n",
    "        oy: y position list of Obstacles [m]\n",
    "        reso: grid resolution [m]\n",
    "        rr: robot radius[m]\n",
    "        \"\"\"\n",
    "\n",
    "        self.reso = reso\n",
    "        self.rr = rr\n",
    "        self.calc_obstacle_map(ox, oy)\n",
    "        self.motion = self.get_motion_model()\n",
    "    \n",
    "    # graph representation of the grid     \n",
    "    class Node:\n",
    "        def __init__(self, x, y, cost, pind):\n",
    "            self.x = x  # index of grid\n",
    "            self.y = y  # index of grid\n",
    "            self.cost = cost\n",
    "            self.pind = pind   # parent id\n",
    "\n",
    "        def __str__(self):\n",
    "            return str(self.x) + \",\" + str(self.y) + \",\" + str(self.cost) + \",\" + str(self.pind)\n",
    "\n",
    "    # -------------------------------------------------------\n",
    "    #  Back-end functions\n",
    "    # -------------------------------------------------------\n",
    "\n",
    "    def calc_position(self, index, minp):\n",
    "        pos = index*self.reso+minp\n",
    "        return pos\n",
    "\n",
    "    def calc_xyindex(self, position, minp):\n",
    "        return round((position - minp)/self.reso)\n",
    "\n",
    "    def calc_index(self, node):\n",
    "        return (node.y - self.miny) * self.xwidth + (node.x - self.minx)\n",
    "    \n",
    "    # verify that node is collision free     \n",
    "    def verify_node(self, node):\n",
    "        px = self.calc_position(node.x, self.minx)\n",
    "        py = self.calc_position(node.y, self.miny)\n",
    "\n",
    "        if px < self.minx:\n",
    "            return False\n",
    "        elif py < self.miny:\n",
    "            return False\n",
    "        elif px >= self.maxx:\n",
    "            return False\n",
    "        elif py >= self.maxy:\n",
    "            return False\n",
    "    \n",
    "        # check for collision         \n",
    "        if self.obmap[node.x][node.y]:\n",
    "            return False\n",
    "\n",
    "        return True\n",
    "\n",
    "    def calc_obstacle_map(self, ox, oy):\n",
    "\n",
    "        self.minx = round(min(ox))\n",
    "        self.miny = round(min(oy))\n",
    "        self.maxx = round(max(ox))\n",
    "        self.maxy = round(max(oy))\n",
    "        print(\"minx:\", self.minx)\n",
    "        print(\"miny:\", self.miny)\n",
    "        print(\"maxx:\", self.maxx)\n",
    "        print(\"maxy:\", self.maxy)\n",
    "\n",
    "        self.xwidth = round((self.maxx - self.minx)/self.reso)\n",
    "        self.ywidth = round((self.maxy - self.miny)/self.reso)\n",
    "        print(\"xwidth:\", self.xwidth)\n",
    "        print(\"ywidth:\", self.ywidth)\n",
    "\n",
    "        # obstacle map generation\n",
    "        self.obmap = [[False for i in range(self.ywidth)]\n",
    "                      for i in range(self.xwidth)]\n",
    "        for ix in range(self.xwidth):\n",
    "            x = self.calc_position(ix, self.minx)\n",
    "            for iy in range(self.ywidth):\n",
    "                y = self.calc_position(iy, self.miny)\n",
    "                for iox, ioy in zip(ox, oy):\n",
    "                    d = math.sqrt((iox - x)**2 + (ioy - y)**2)\n",
    "                    if d <= self.rr:\n",
    "                        self.obmap[ix][iy] = True\n",
    "                        break\n",
    "\n",
    "    def get_motion_model(self):\n",
    "        # dx, dy, cost\n",
    "        motion = [[1, 0, 1],\n",
    "                  [0, 1, 1],\n",
    "                  [-1, 0, 1],\n",
    "                  [0, -1, 1],\n",
    "                  [-1, -1, math.sqrt(2)],\n",
    "                  [-1, 1, math.sqrt(2)],\n",
    "                  [1, -1, math.sqrt(2)],\n",
    "                  [1, 1, math.sqrt(2)]]\n",
    "\n",
    "        return motion\n",
    "    \n",
    "    \n",
    "    # -------------------------------------------------------\n",
    "    #  Main Algorithm\n",
    "    # -------------------------------------------------------\n",
    "\n",
    " \n",
    "    def planning(self, sx, sy, gx, gy):\n",
    "        \"\"\"\n",
    "        graph path search\n",
    "        input:\n",
    "            sx: start x position [m]\n",
    "            sy: start y position [m]\n",
    "            gx: goal x position [m]\n",
    "            gx: goal x position [m]\n",
    "        output:\n",
    "            rx: x position list of the final path\n",
    "            ry: y position list of the final path\n",
    "        \"\"\"\n",
    "\n",
    "        nstart = self.Node(self.calc_xyindex(sx, self.minx),\n",
    "                           self.calc_xyindex(sy, self.miny), 0.0, -1)\n",
    "        ngoal = self.Node(self.calc_xyindex(gx, self.minx),\n",
    "                          self.calc_xyindex(gy, self.miny), 0.0, -1)\n",
    "\n",
    "        openset, closedset = dict(), dict()\n",
    "        openset[self.calc_index(nstart)] = nstart\n",
    "    \n",
    "        expansion = []\n",
    "        while 1:\n",
    "            c_id = min(openset, key=lambda o: openset[o].cost)\n",
    "            #c_id = min(openset, key=lambda o: openset[o].cost + self.calc_heuristic(ngoal, openset[o]))\n",
    "            current = openset[c_id]\n",
    "            \n",
    "            # store expansion for visualisation reasons             \n",
    "            expansion.append([self.calc_position(current.x, self.minx),\n",
    "                              self.calc_position(current.y, self.miny)])\n",
    "                \n",
    "            #  if goal was found, stop !         \n",
    "            if current.x == ngoal.x and current.y == ngoal.y:\n",
    "                print(\"Found goal\")\n",
    "                ngoal.pind = current.pind\n",
    "                ngoal.cost = current.cost\n",
    "                break\n",
    "\n",
    "            # Remove the item from the open set\n",
    "            del openset[c_id]\n",
    "\n",
    "            # Add it to the closed set\n",
    "            closedset[c_id] = current\n",
    "\n",
    "            # expand search grid based on motion model, based on all the actions\n",
    "            for i, _ in enumerate(self.motion):\n",
    "                node = self.Node(current.x + self.motion[i][0],\n",
    "                                 current.y + self.motion[i][1],\n",
    "                                 current.cost + self.motion[i][2], c_id)\n",
    "                n_id = self.calc_index(node)\n",
    "\n",
    "                if n_id in closedset:\n",
    "                    continue\n",
    "                \n",
    "                if not self.verify_node(node):\n",
    "                    continue\n",
    "                \n",
    "                # if a new node is discovered\n",
    "                if n_id not in openset:\n",
    "                    openset[n_id] = node  \n",
    "                else:\n",
    "                    # if the node is not new, but the new path to the node is better then \n",
    "                    # still add the node to the openset                    \n",
    "                    if openset[n_id].cost > node.cost:\n",
    "                        # This path is the best until now. record it!\n",
    "                        openset[n_id] = node\n",
    "\n",
    "        # find the optimal path to the goal         \n",
    "        rx, ry = self.calc_final_path(ngoal, closedset)\n",
    "\n",
    "        return rx, ry, expansion\n",
    "\n",
    "    def calc_final_path(self, ngoal, closedset):\n",
    "        # generate final course\n",
    "        rx, ry = [self.calc_position(ngoal.x, self.minx)], [\n",
    "                  self.calc_position(ngoal.y, self.miny)]\n",
    "        pind = ngoal.pind\n",
    "        while pind != -1:\n",
    "            n = closedset[pind]\n",
    "            rx.append(self.calc_position(n.x, self.minx))\n",
    "            ry.append(self.calc_position(n.y, self.miny))\n",
    "            pind = n.pind\n",
    "\n",
    "        return rx, ry\n",
    "    \n",
    "    def calc_heuristic(self, n1, n2):\n",
    "        w = 1.0  # weight of heuristic\n",
    "        d = w * math.sqrt((n1.x - n2.x)**2 + (n1.y - n2.y)**2)\n",
    "        return d"
   ]
  },
  {
   "cell_type": "markdown",
   "metadata": {},
   "source": [
    "### Create a world "
   ]
  },
  {
   "cell_type": "code",
   "execution_count": null,
   "metadata": {},
   "outputs": [],
   "source": [
    "# start and goal position\n",
    "sx = -5.0  # [m]\n",
    "sy = -5.0  # [m]\n",
    "gx = 50.0  # [m]\n",
    "gy = 50.0  # [m]\n",
    "grid_size = 2.0  # [m]\n",
    "robot_radius = 1.0  # [m]\n",
    "\n",
    "# set obstacle positions\n",
    "ox, oy = [], []\n",
    "for i in range(-10, 60):\n",
    "    ox.append(i)\n",
    "    oy.append(-10.0)\n",
    "for i in range(-10, 60):\n",
    "    ox.append(60.0)\n",
    "    oy.append(i)\n",
    "for i in range(-10, 61):\n",
    "    ox.append(i)\n",
    "    oy.append(60.0)\n",
    "for i in range(-10, 61):\n",
    "    ox.append(-10.0)\n",
    "    oy.append(i)\n",
    "for i in range(-10, 40):\n",
    "    ox.append(20.0)\n",
    "    oy.append(i)\n",
    "for i in range(0, 40):\n",
    "    ox.append(40.0)\n",
    "    oy.append(60.0 - i)"
   ]
  },
  {
   "cell_type": "markdown",
   "metadata": {},
   "source": [
    "### Use the GraphSearch class to find the path to the goal \n",
    "\n",
    "* Plot samples from graph expansion phase\n",
    "* Plot solution path"
   ]
  },
  {
   "cell_type": "code",
   "execution_count": null,
   "metadata": {
    "scrolled": false
   },
   "outputs": [],
   "source": [
    "# --------------------------------------------------\n",
    "# Instanciate the graph search class\n",
    "# and search for a path to the goal\n",
    "# --------------------------------------------------\n",
    "graphSearch = GraphSearch(ox, oy, grid_size, robot_radius)\n",
    "rx, ry, expansion = graphSearch.planning(sx, sy, gx, gy)\n",
    "\n",
    "# visualise the graph expansion phase\n",
    "expansion_np = np.array(expansion)\n",
    "for i in range(0,len(expansion), 100):\n",
    "    plt.figure(i)\n",
    "    plt.plot(ox, oy, \".k\")\n",
    "    plt.plot(sx, sy, \"og\")\n",
    "    plt.plot(gx, gy, \"xb\")\n",
    "    plt.grid(True)\n",
    "    plt.axis(\"equal\")\n",
    "    plt.plot(expansion_np[:i,0], expansion_np[:i,1], \"xc\")\n",
    "    plt.show()\n",
    "\n",
    "# visualise the solution path     \n",
    "plt.figure(2)\n",
    "plt.plot(ox, oy, \".k\")\n",
    "plt.plot(sx, sy, \"og\")\n",
    "plt.plot(gx, gy, \"xb\")\n",
    "plt.grid(True)\n",
    "plt.axis(\"equal\")\n",
    "plt.plot(rx, ry, \"-r\")\n",
    "plt.show()"
   ]
  },
  {
   "cell_type": "markdown",
   "metadata": {},
   "source": [
    "**References:**\n",
    "\n",
    "Atsushi Sakai (Modified by Jack Wilkinson and Theodoros Stouraitis)\n",
    "\n",
    "https://github.com/AtsushiSakai/PythonRobotics/tree/master/PathPlanning\n",
    "\n",
    "https://pythonrobotics.readthedocs.io/en/latest/modules/path_planning.html#grid-based-search    \n"
   ]
  },
  {
   "cell_type": "code",
   "execution_count": null,
   "metadata": {},
   "outputs": [],
   "source": [
    "%reset"
   ]
  },
  {
   "cell_type": "markdown",
   "metadata": {},
   "source": [
    "# Part B: Rapidly-Exploring Random Trees (RRT)"
   ]
  },
  {
   "cell_type": "markdown",
   "metadata": {},
   "source": [
    "## Import Packages"
   ]
  },
  {
   "cell_type": "code",
   "execution_count": null,
   "metadata": {},
   "outputs": [],
   "source": [
    "import random\n",
    "import numpy as np\n",
    "import matplotlib.pyplot as plt\n",
    "import matplotlib.animation as animation"
   ]
  },
  {
   "cell_type": "markdown",
   "metadata": {},
   "source": [
    "## Outline of Part B\n",
    "In this part of the tutorial, we will investigate a sampling-based planning algorithm called RRT. Below are some of the learning objectives you should achieve by the end of the tutorial."
   ]
  },
  {
   "cell_type": "markdown",
   "metadata": {},
   "source": [
    "**Objectives:**\n",
    "* Understand the advantages of RRT compared to Graph Search algorithms\n",
    "* Gain an understanding of how RRT works\n",
    "* Implement the RRT path planning algorithm"
   ]
  },
  {
   "cell_type": "markdown",
   "metadata": {},
   "source": [
    "## RRT Algorithm\n",
    "Rapidly-Exploring Randoms Trees (RRT) is a sampling-based planning algorithm which makes use of probabilistic methods and a roadmap. The roadmap shown below is created by RRT and represents a network of potential obstacle free paths through the environment. The main advantage of RRT in comparison to algorithms such as A* is the use of random sampling which greatly reduces computational cost when analysing the map. A limitation of this approach is that computed paths are non-optimal, due to the random sampling of nodes.\n",
    "\n",
    "The graph or roadmap below is an abstract representation of a set of objects or nodes/vertices connected by links or edges. The edges can be directed, in this case the starting point is $q_1$. A sequence of connected edges is a path. "
   ]
  },
  {
   "cell_type": "markdown",
   "metadata": {},
   "source": [
    "## RRT Pseudocode"
   ]
  },
  {
   "cell_type": "markdown",
   "metadata": {},
   "source": [
    "<img src=\"images/rrt_qnear.png\" style=\"width: 400px;\">"
   ]
  },
  {
   "cell_type": "markdown",
   "metadata": {},
   "source": [
    "<img src=\"images/rrt_pseudo.png\" style=\"width: 900px;\">"
   ]
  },
  {
   "cell_type": "markdown",
   "metadata": {},
   "source": [
    "Inputs: \n",
    "* Initial configuration/position $q_{init}$\n",
    "* Number of nodes, K. In our case we use a while loop until one of the nodes is within a certain radius of the goal.\n",
    "* Incremental distance or step size $\\Delta q$\n",
    "\n",
    "Looping until target is reached:\n",
    "1. A random configuration $q_{rand}$ is chosen. $q_{rand}$ is discarded if it lies within an obstacle.\n",
    "2. The closest node/vertex $q_{near}$ is found. Near being defined in terms of a cost function that includes distance and orientation. $q_{near}$ will not be added to the graph if the path from $q_{near}$ to $q_{rand}$ intersects an obstacle. \n",
    "3. The point $q_{new}$ is added, which is the distance the robot can move in a fixed path towards $q_{rand}$ from $q_{near}$."
   ]
  },
  {
   "cell_type": "markdown",
   "metadata": {},
   "source": [
    "## Voronoi Bias\n",
    "In the Voronoi diagram below we can see each cell or region corresponds to a site within the cell and consists of all points that are closer to its site than to any other site. The edges of the cells are the points that are equidistant to the two nearest sites. \n",
    "\n",
    "The key idea in sampling-based planners is using Voronoi bias in the exploration process by expanding the node in the tree that is closest ($q_{near}$) to the random point ($q_{rand}$) in each iteration. By using random samples, the probability that a vertex/node is chosen is proportional to the volume of its Voronoi region. This encourages tree growth to the larger unexplored regions. "
   ]
  },
  {
   "cell_type": "markdown",
   "metadata": {},
   "source": [
    "<img src=\"images/voronoi.png\" style=\"width: 400px;\">"
   ]
  },
  {
   "cell_type": "markdown",
   "metadata": {},
   "source": [
    "<img src=\"images/rrt_tree.gif\" style=\"width: 600px;\">"
   ]
  },
  {
   "cell_type": "markdown",
   "metadata": {},
   "source": [
    "### Define RRT Class"
   ]
  },
  {
   "cell_type": "code",
   "execution_count": null,
   "metadata": {},
   "outputs": [],
   "source": [
    "#Global configuration\n",
    "RADIUS_OBSTACLE = 0.8\n",
    "RADIUS_TARGET = 1.0\n",
    "RRT_EXTEND_DIST = 1.0\n",
    "SMOOTHING_ITERATIONS = 200\n",
    "SMOOTHING_STEP = 0.1\n",
    "\n",
    "#Global starting position (x, y)\n",
    "start = (4.0, -5.0)\n",
    "#Global target position (x, y)\n",
    "target = (-6.0, 8.0)\n",
    "\n",
    "\n",
    "class RRT():\n",
    "    \n",
    "    def __init__(self):\n",
    "        \n",
    "        # circle obstacles list [(x, y)]\n",
    "        self.obstacles = []\n",
    "        \n",
    "        # tree nodes list [((pos_x, pos_y), parent_index)]\n",
    "        self.nodes = [(start, None)]\n",
    "        \n",
    "    #Add a line of obstacles between the two given points\n",
    "    def generate_obstacles_line(self, q1, q2):\n",
    "        length = np.sqrt(np.power(q1[0]-q2[0], 2) + np.power(q1[1]-q2[1], 2))\n",
    "        vectx = (q2[0]-q1[0])/length\n",
    "        vecty = (q2[1]-q1[1])/length\n",
    "        for l in np.arange(0.0, length, 1.9*RADIUS_OBSTACLE):\n",
    "            self.obstacles += [(q1[0]+l*vectx, q1[1]+l*vecty)]\n",
    "\n",
    "    #Return True if the given point is colliding \n",
    "    def check_point_collision(self, q):\n",
    "        for o in self.obstacles:\n",
    "            dist = np.sqrt(np.power(q[0]-o[0], 2) + np.power(q[1]-o[1], 2))\n",
    "            if dist <= RADIUS_OBSTACLE:\n",
    "                return True\n",
    "        return False\n",
    "\n",
    "    #Return True if the segment between the two \n",
    "    #given points is colliding the obstacles\n",
    "    def check_segment_collision(self, q1, q2):\n",
    "        length = np.sqrt(np.power(q1[0]-q2[0], 2) + np.power(q1[1]-q2[1], 2))\n",
    "        vectx = (q2[0]-q1[0])/length\n",
    "        vecty = (q2[1]-q1[1])/length\n",
    "        for l in np.arange(0.0, length, 0.6*RADIUS_OBSTACLE):\n",
    "            q = (q1[0]+l*vectx, q1[1]+l*vecty)\n",
    "            if self.check_point_collision(q):\n",
    "                return True\n",
    "        return False\n",
    "\n",
    "    #Return a random point in the working space\n",
    "    def sample_point(self):\n",
    "        x = random.uniform(-10.0, 10.0)\n",
    "        y = random.uniform(-10.0, 10.0)\n",
    "        return (x,y)\n",
    "\n",
    "    #Return the index of the closest node in RRT from given point\n",
    "    def find_nearest_neighbour(self, q):\n",
    "        index = 0\n",
    "        dist_min = float('inf')\n",
    "        for (i, n) in enumerate(self.nodes):\n",
    "            dist = np.sqrt(np.power(q[0]-n[0][0], 2) + np.power(q[1]-n[0][1], 2))\n",
    "            if dist < dist_min:\n",
    "                dist_min = dist;\n",
    "                index = i\n",
    "        return index\n",
    "    \n",
    "    def find_new_reachable_pt(self, q_sample, q_near):\n",
    "        \n",
    "        dist = np.sqrt(np.power(q_sample[0]- q_near[0], 2) + np.power(q_sample[1]- q_near[1], 2))\n",
    "        if dist > RRT_EXTEND_DIST:\n",
    "            q_normalized_x = q_near[0] + RRT_EXTEND_DIST*(q_sample[0]- q_near[0])/dist\n",
    "            q_normalized_y = q_near[1] + RRT_EXTEND_DIST*(q_sample[1]- q_near[1])/dist\n",
    "        else:\n",
    "            q_normalized_x = q_sample[0]\n",
    "            q_normalized_y = q_sample[1]\n",
    "        q_new = (q_normalized_x, q_normalized_y)\n",
    "\n",
    "        return q_new\n",
    "    "
   ]
  },
  {
   "cell_type": "markdown",
   "metadata": {},
   "source": [
    "### Implement RRT Algorithm"
   ]
  },
  {
   "cell_type": "code",
   "execution_count": null,
   "metadata": {},
   "outputs": [],
   "source": [
    "rrt_plan = RRT()\n",
    "\n",
    "# Define obstacle lines\n",
    "rrt_plan.generate_obstacles_line((-12.0, 4.0), (5.0, 5.0))\n",
    "rrt_plan.generate_obstacles_line((-2.0, -1.0), (12.0, -3.0))\n",
    "\n",
    "\n",
    "#Sample and grow the RRT until target is reached\n",
    "is_reached = False\n",
    "while not is_reached:\n",
    "    \n",
    "    # Sample a new point  \n",
    "    ### START CODE HERE (~1 line of code)\n",
    "\n",
    "    ### END CODE HERE\n",
    "    \n",
    "    # Check that the new point is collision free\n",
    "    if not rrt_plan.check_point_collision(q_sample):\n",
    "\n",
    "        # Find the index of the nearest node (q_near) in the graph    \n",
    "        ### START CODE HERE (~1 line of code)\n",
    "\n",
    "        ### END CODE HERE\n",
    "        \n",
    "        q_near = rrt_plan.nodes[index][0]\n",
    "\n",
    "        # Find the closest feasible point to the randomly sampled point (q_new)\n",
    "        ### START CODE HERE (~1 line of code)\n",
    "\n",
    "        ### END CODE HERE\n",
    "        \n",
    "        # Check if the edge is collision free\n",
    "        ### START CODE HERE (~1 line of code)\n",
    "\n",
    "        ### END CODE HERE\n",
    "        \n",
    "            rrt_plan.nodes += [(q_new, index)]\n",
    "\n",
    "            # Check if the goal has been reached\n",
    "            if np.sqrt(np.power(q_new[0]-target[0], 2) + np.power(q_new[1]-target[1], 2)) < RADIUS_TARGET:\n",
    "                is_reached = True\n",
    "\n",
    "#Retrieve computed path from the tree\n",
    "#(in reversed order)\n",
    "path = []\n",
    "index = len(rrt_plan.nodes)-1\n",
    "path += [target]\n",
    "while index != None:\n",
    "    path += [rrt_plan.nodes[index][0]]\n",
    "    index = rrt_plan.nodes[index][1]\n",
    "path += [start]\n",
    "\n",
    "#Path smoothing\n",
    "for k in range(SMOOTHING_ITERATIONS):\n",
    "    index1 = random.randint(0, len(path)-1)\n",
    "    index2 = random.randint(0, len(path)-1)\n",
    "    if index1 != index2 and not rrt_plan.check_segment_collision(path[index1], path[index2]):\n",
    "        if index1 < index2:\n",
    "            index_low = index1\n",
    "            index_up = index2\n",
    "        else:\n",
    "            index_low = index2\n",
    "            index_up = index1\n",
    "        middle = []\n",
    "        deltax = (path[index_up][0]-path[index_low][0])\n",
    "        deltay = (path[index_up][1]-path[index_low][1])\n",
    "        for l in np.arange(SMOOTHING_STEP, 1.0-SMOOTHING_STEP, SMOOTHING_STEP):\n",
    "            middle += [(path[index_low][0]+l*deltax, path[index_low][1]+l*deltay)]\n",
    "        path = path[:index_low+1] + middle + path[index_up:]\n",
    "\n",
    "        "
   ]
  },
  {
   "cell_type": "markdown",
   "metadata": {},
   "source": [
    "### Plotting the RRT Roadmap"
   ]
  },
  {
   "cell_type": "code",
   "execution_count": null,
   "metadata": {},
   "outputs": [],
   "source": [
    "%matplotlib inline\n",
    "\n",
    "node_prog = np.linspace(7, len(rrt_plan.nodes), 10, int)\n",
    "\n",
    "# Plot growing tree\n",
    "for j in range(len(node_prog)): \n",
    "    \n",
    "    fig = plt.subplots()\n",
    "    \n",
    "    #Draw obstacles\n",
    "    for o in rrt_plan.obstacles:\n",
    "        circle = plt.Circle(o, RADIUS_OBSTACLE, color='b', fill=False)\n",
    "        plt.gcf().gca().add_artist(circle)\n",
    "\n",
    "    #Draw start and target points\n",
    "    circle_start_1 = plt.Circle(start, RADIUS_TARGET, color='g', alpha=0.5)\n",
    "    circle_start_2 = plt.Circle(start, RADIUS_OBSTACLE, color='g')\n",
    "    circle_target_1 = plt.Circle(target, RADIUS_TARGET, color='r', alpha=0.5)\n",
    "    circle_target_2 = plt.Circle(target, RADIUS_OBSTACLE, color='r')\n",
    "    plt.gcf().gca().add_artist(circle_start_1)\n",
    "    plt.gcf().gca().add_artist(circle_start_2)\n",
    "    plt.gcf().gca().add_artist(circle_target_1)\n",
    "    plt.gcf().gca().add_artist(circle_target_2)\n",
    "\n",
    "    \n",
    "    #Draw tree\n",
    "    for n in rrt_plan.nodes[0:int(node_prog[j])]:\n",
    "        if (n[1] != None):\n",
    "            x1 = n[0][0]\n",
    "            y1 = n[0][1]\n",
    "            parent = n[1]\n",
    "            x2 = rrt_plan.nodes[parent][0][0]\n",
    "            y2 = rrt_plan.nodes[parent][0][1]\n",
    "            plt.plot([x1, x2], [y1, y2], color='y', marker='.')\n",
    "    \n",
    "    plt.axis('scaled')\n",
    "    plt.grid()\n",
    "    plt.gcf().gca().set_xlim((-10.0, 10.0))\n",
    "    plt.gcf().gca().set_ylim((-10.0, 10.0))\n",
    "    \n",
    "    # Final plot\n",
    "    if(j >= len(node_prog)-1):\n",
    "    \n",
    "        #Draw Path\n",
    "        for i in range(len(path)):\n",
    "            if i > 0:\n",
    "                plt.plot([path[i-1][0], path[i][0]], [path[i-1][1], path[i][1]], color='r', marker='.')\n",
    "        \n",
    "    plt.show()"
   ]
  },
  {
   "cell_type": "markdown",
   "metadata": {},
   "source": [
    "**References**\n",
    "\n",
    "Corke, P., 2017. Robotics, vision and control: fundamental algorithms in MATLAB® second, completely revised (Vol. 118). Springer.\n",
    "https://en.wikipedia.org/wiki/Rapidly-exploring_random_tree\n"
   ]
  }
 ],
 "metadata": {
  "kernelspec": {
   "display_name": "Python 3",
   "language": "python",
   "name": "python3"
  },
  "language_info": {
   "codemirror_mode": {
    "name": "ipython",
    "version": 3
   },
   "file_extension": ".py",
   "mimetype": "text/x-python",
   "name": "python",
   "nbconvert_exporter": "python",
   "pygments_lexer": "ipython3",
   "version": "3.6.8"
  }
 },
 "nbformat": 4,
 "nbformat_minor": 2
}
