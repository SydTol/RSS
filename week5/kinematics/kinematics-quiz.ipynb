{
 "cells": [
  {
   "cell_type": "markdown",
   "metadata": {},
   "source": [
    "# Tutorial 6: Kinematics\n",
    "\n",
    "Welcome to Tutorial 6, where we will be looking at kinematics. The tutorial looks at two of the key problems in kinematics when applied serial-chain manipulators: \n",
    "* Forward kinematics: Finding the position and orientation of the end-effector relative to the base given the angles of all the joints.\n",
    "* Inverse kinematics: Finding the values of the joint angles given the position and orientation of the end-effector relative to the base. "
   ]
  },
  {
   "cell_type": "markdown",
   "metadata": {},
   "source": [
    "## Import Packages\n"
   ]
  },
  {
   "cell_type": "code",
   "execution_count": null,
   "metadata": {},
   "outputs": [],
   "source": [
    "import numpy as np\n",
    "import matplotlib.pyplot as plt\n",
    "import scipy.linalg"
   ]
  },
  {
   "cell_type": "markdown",
   "metadata": {},
   "source": [
    "## Homogeneous Transformation Matrix\n",
    "\n",
    "One key element in deriving the kinematics of a serial-chain manipulator is the homogeneous transformation matrix. We use this matrix to conveniently group the rotation and translation of a frame into a single matrix form: \n",
    "<br/> \n",
    "<br/> \n",
    "$$\n",
    "T =\n",
    "\\left(\\begin{array}{cc}\n",
    "R & p \\\\\n",
    "0_{1x3} & 1\n",
    "\\end{array}\\right) \n",
    "=\n",
    "\\left(\\begin{array}{cc}\n",
    "r_{11} & r_{12} & r_{13} & x \\\\\n",
    "r_{21} & r_{22} & r_{23} & y \\\\\n",
    "r_{31} & r_{32} & r_{33} & z \\\\\n",
    "0 & 0 & 0 & 1\n",
    "\\end{array}\\right) \n",
    "$$\n",
    "\n",
    "<br/>\n",
    "For example, the homogeneous transform could be used when defining the the vector $^AP$ which describes a point relative to frame {A} using the known pose or transform between frames {A} to {B} and knowing the vector $^BP$."
   ]
  },
  {
   "cell_type": "markdown",
   "metadata": {},
   "source": [
    "<img src=\"images/frames.png\" style=\"width: 600px;\">"
   ]
  },
  {
   "cell_type": "markdown",
   "metadata": {},
   "source": [
    "Without our homogeneous transformation matrix, this relationship would be described as:\n",
    "<br/>\n",
    "<br/>\n",
    "<center>$^AP = {^A}R_B {^BP} + {^A}P_{BORG}$ </center>\n",
    "\n",
    "But using the transformation matrix this relationship can be concisely written as:\n",
    "<br/> \n",
    "<br/> \n",
    "<center>$^AP = {^A}T_B {^BP}$ </center>\n",
    "<br/>\n",
    "Where $^AP$ and $^BP$ are two vectors with positions known relative to frames {A} and {B} respectively.\n",
    "<br/> \n",
    "<br/> "
   ]
  },
  {
   "cell_type": "markdown",
   "metadata": {},
   "source": [
    "## 3-Link Planar Manipulator\n",
    "Below is the 3-link planar manipulator whose forward kinematics we will be implementing. The lengths of links 1, 2 and 3 are $L_1, L_2$ and $L_3$. The rotation about each of the three joints are ${\\theta}_1, {\\theta}_2$ and ${\\theta}_3$."
   ]
  },
  {
   "cell_type": "markdown",
   "metadata": {},
   "source": [
    "<img src=\"images/3-link-angles.png\" style=\"width: 300px;\">"
   ]
  },
  {
   "cell_type": "markdown",
   "metadata": {},
   "source": [
    "## Frame Assignments \n",
    "This image of the 3-link manipulator shows the frame assignments. The assignment of each frame to a joint follows the **Denavit-Hartenberg** convention. The frame {0} is for the fixed base and the subsequent frames are affixed to the joint of each link. Below is a summary of the steps followed to assign frames to each link:\n",
    "1. Identify the joint axes: Draw infinite lines along them. For the next steps, consider two of these neighbouring lines at axes *i* and *i* + 1.\n",
    "2. Origin: Identify the common perpendicular between them or point of intersection. At the point of intersection, or where the common perpendicular meets the *i*th axis, assign the link-frame origin.\n",
    "3. Assign $\\hat{Z}_i$ axis pointing along the $i$th joint axis.\n",
    "4. Assign $\\hat{X}_i$ axis pointing along the common perpendicular, or if the axes intersect, assign $\\hat{X}_i$ to be normal to the plane containing the two axes.\n",
    "5. Assign $\\hat{Y}_i$ axis to complete the right-hand coordinate system.\n",
    "6. Assign {0} to match {1} when the first joint variable is zero. For the last frame {N}, choose the origin location and $\\hat{X}_N$ axis freely, but to cause as many link parameters as possible to become zero."
   ]
  },
  {
   "cell_type": "markdown",
   "metadata": {},
   "source": [
    "<img src=\"images/3-link-frames.png\" style=\"width: 280px;\"> "
   ]
  },
  {
   "cell_type": "markdown",
   "metadata": {},
   "source": [
    "### Tasks:\n",
    "* Find the homogeneous transform to map from frame {1} to {2}.\n",
    "* Find the homogeneous transform to map from frame {3} to the tip of the end-effector.\n",
    "* Find the homogeneous transform to map from the base to joint 2.\n",
    "* Find the homogeneous transform to map from the base to joint 3.\n",
    "* Find the x, y coordinates for joints 2 and 3.\n",
    "\n",
    "Hint - The transformation matrix $T$ for rotating about the $z$ axis by $\\theta$ and translating $L$ in the $y$ direction would be:\n",
    "\n",
    "$$\n",
    "T \n",
    "=\n",
    "\\left(\\begin{array}{cc}\n",
    "cos(\\theta) & -sin(\\theta) & 0 \\\\\n",
    "sin(\\theta) & cos(\\theta) & L \\\\\n",
    "0 & 0 & 1 \\\\\n",
    "\\end{array}\\right) \n",
    "$$\n"
   ]
  },
  {
   "cell_type": "markdown",
   "metadata": {},
   "source": [
    "### Forward Kinematics"
   ]
  },
  {
   "cell_type": "code",
   "execution_count": null,
   "metadata": {},
   "outputs": [],
   "source": [
    "class ThreeLinkArm:\n",
    "    \n",
    "    def __init__(self):\n",
    "        # Set parameters for the 3-link planar arm\n",
    "        \n",
    "        self.theta1 = np.deg2rad(0)\n",
    "        self.theta2 = np.deg2rad(90)\n",
    "        self.theta3 = np.deg2rad(90)\n",
    "        self.l1 = 5\n",
    "        self.l2 = 3\n",
    "        self.l3 = 2\n",
    "\n",
    "    def forwardKinematics(self, theta1, theta2, theta3):\n",
    "        # Define the homogeneous transformation matrices for the 3-link planar arm\n",
    "        \n",
    "        self.theta1 = theta1\n",
    "        self.theta2 = theta2\n",
    "        self.theta3 = theta3\n",
    "\n",
    "        self.t01 = np.matrix([[np.cos(self.theta1), -np.sin(self.theta1), 0],\n",
    "                        [np.sin(self.theta1), np.cos(self.theta1), 0],\n",
    "                        [0, 0, 1]])\n",
    "        \n",
    "        # Implement the transformation matrix from frame {1} to frame {2}\n",
    "        ### START CODE HERE ###\n",
    "    \n",
    "        ### END CODE HERE ###\n",
    "\n",
    "\n",
    "        self.t23 = np.matrix([[np.cos(self.theta3), -np.sin(self.theta3), self.l2],\n",
    "                        [np.sin(self.theta3), np.cos(self.theta3), 0],\n",
    "                        [0, 0, 1]])\n",
    "        \n",
    "        # Implement the transformation matrix from frame {3} to the tip of the end-effector\n",
    "        ### START CODE HERE ###\n",
    "\n",
    "        ### END CODE HERE ###\n",
    "        \n",
    "        self.t0end = self.t01*self.t12*self.t23*self.t3end\n",
    "        \n",
    "        return self.t0end\n",
    "    \n",
    "    def findJointPos(self): \n",
    "        # Find the x,y position of each joint and end effector so it can be plotted\n",
    "        \n",
    "        # Find the transformation matrices for joint 2 and joint 3\n",
    "        ### START CODE HERE ###\n",
    "        \n",
    "        ### END CODE HERE ###\n",
    "        \n",
    "        # Find the x, y coordinates for joints 2 and 3. Put them in a list j2 = [x,y]\n",
    "        ### START CODE HERE ###\n",
    "       \n",
    "        ### END CODE HERE ###\n",
    "        \n",
    "        endeff = [self.t0end[0,2],self.t0end[1,2]]\n",
    "        \n",
    "        return j2,j3,endeff\n",
    "        \n",
    "\n",
    "def plotArm(jnt2pos, jnt3pos, endEffectPos, target=np.array([0,0])):\n",
    "    # set up figure\n",
    "    fig = plt.figure(figsize=(4,4))\n",
    "    ax = fig.add_subplot(111, autoscale_on=False,\n",
    "                         xlim=(-10, 10), ylim=(-10, 10))\n",
    "    ax.grid()\n",
    "\n",
    "    plt.plot(target[0],target[1],'or')\n",
    "    line, = ax.plot([], [], 'o-', lw=4, mew=5)\n",
    "    time_text = ax.text(0.02, 0.95, '', transform=ax.transAxes)\n",
    "\n",
    "    line.set_data([], [])\n",
    "    time_text.set_text('')\n",
    "    x = np.array([0,\n",
    "                   jnt2pos[0],\n",
    "                   jnt3pos[0],\n",
    "                   endEffectPos[0]])\n",
    "    y = np.array([0,\n",
    "                   jnt2pos[1],\n",
    "                   jnt3pos[1],\n",
    "                   endEffectPos[1]])\n",
    "    line.set_data((x,y))\n",
    "\n",
    "    plt.show()"
   ]
  },
  {
   "cell_type": "code",
   "execution_count": null,
   "metadata": {},
   "outputs": [],
   "source": [
    "arm = ThreeLinkArm()\n",
    "\n",
    "# Do forward kinematics for a set angle on each joint\n",
    "T = arm.forwardKinematics(np.deg2rad(45),np.deg2rad(45),np.deg2rad(-45))\n",
    "\n",
    "# Find the x,y coordinates of joints 2, 3 and end effector so they can be plotted\n",
    "joint2pos, joint3pos, endEffectorPos = arm.findJointPos()\n",
    "\n",
    "# Print joint + end effector positions\n",
    "print(\"Homogeneous matrix from base to end effector: \\n\" + str(T))\n",
    "print(\"Joint 3 Coordinates: \" + str(joint3pos))\n",
    "print(\"End effector Coordinates: \" + str(endEffectorPos))\n",
    "\n",
    "# Plot the pose of the arm\n",
    "plotArm(joint2pos, joint3pos, endEffectorPos)"
   ]
  },
  {
   "cell_type": "markdown",
   "metadata": {},
   "source": [
    "---\n",
    "\n",
    "## Inverse Kinematics\n",
    "\n",
    "\n",
    "In this section we will be looking at the Jacobian inverse technique, a method used to solve inverse kinematics. As we saw in the previous section the forward kinematics are described with a function that maps joint angles to end-effector pose:\n",
    "<br/> \n",
    "<br/> \n",
    "$$ \\mathbf{y} = \\phi(\\boldsymbol{\\theta})$$\n",
    "<br/> \n",
    "\n",
    "For the Inverse kinematics we would like to have a function that maps the end-effector pose to joint angles:\n",
    "<br/> \n",
    "<br/> \n",
    "$$ \\boldsymbol{\\theta} = \\psi(\\mathbf{y})$$\n",
    "<br/> \n",
    "However, as $\\phi(\\cdot)$ is nonlinear, obtaining $\\psi$ is not possible. Therefore, we differentiate the forwards kinematics function:\n",
    "<br/> \n",
    "<br/> \n",
    "$$ \\frac{\\partial \\mathbf{y}}{\\partial t} = \\frac{\\partial \\phi(\\boldsymbol{\\theta})}{{\\partial t}}$$\n",
    "<br/> \n",
    "<br/> \n",
    "$$ \\frac{\\partial \\mathbf{y}}{\\partial t} = \\frac{\\partial \\phi(\\boldsymbol{\\theta})}{{\\partial \\boldsymbol{\\theta}}} \\frac{\\partial \\boldsymbol{\\theta}}{\\partial t}$$\n",
    "<br/> \n",
    "<br/> \n",
    "$$ \\dot{\\mathbf{y}} = \\frac{\\partial \\phi(\\boldsymbol{\\theta})}{{\\partial \\boldsymbol{\\theta}}} \\dot{\\boldsymbol{\\theta}}$$\n",
    "<br/> \n",
    "Compactly written as:\n",
    "<br/> \n",
    "<br/> \n",
    "$$ \\dot{\\mathbf{y}} = J \\dot{\\boldsymbol{\\theta}}$$\n",
    "<br/> \n",
    "\n",
    "Where $\\dot{y}$ is the change in end-effector position, $\\dot{\\theta}$ is the change in joint angles and $J$ is the derivative of the forward kinematics function called the Jacobian. The Jacobian matrix represents the relationship between the position of the end-effector and rotation of each joint: \n",
    "\n",
    "<br/> \n",
    "$$ J = \\frac{\\partial \\phi(\\boldsymbol{\\theta})} {{\\partial \\boldsymbol{\\theta}}} $$\n",
    "<br/> \n",
    "<br/> \n",
    "$$\n",
    "J =\n",
    "\\left(\n",
    "\\begin{array}{cc}\n",
    "\\frac{\\partial \\phi_x(\\boldsymbol{\\theta})} {{\\partial \\boldsymbol{\\theta_1}}} & \\frac{\\partial \\phi_x(\\boldsymbol{\\theta})}{{\\partial \\boldsymbol{\\theta_2}}} & \\frac{\\partial \\phi_x(\\boldsymbol{\\theta})}{{\\partial \\boldsymbol{\\theta_3}}}\\\\\n",
    "\\frac{\\partial \\phi_y(\\boldsymbol{\\theta})} {{\\partial \\boldsymbol{\\theta_1}}} & \\frac{\\partial \\phi_y(\\boldsymbol{\\theta})}{{\\partial \\boldsymbol{\\theta_2}}} & \\frac{\\partial \\phi_y(\\boldsymbol{\\theta})}{{\\partial \\boldsymbol{\\theta_3}}}\\\\\n",
    "\\frac{\\partial \\phi_z(\\boldsymbol{\\theta})} {{\\partial \\boldsymbol{\\theta_1}}} & \\frac{\\partial \\phi_z(\\boldsymbol{\\theta})}{{\\partial \\boldsymbol{\\theta_2}}} & \\frac{\\partial \\phi_z(\\boldsymbol{\\theta})}{{\\partial \\boldsymbol{\\theta_3}}}\\\\\n",
    "\\end{array}\n",
    "\\right) \n",
    "$$\n",
    "<br/> \n",
    "\n",
    "#### Once we have the Jacobian, we can obtain the differential inverse kinematics:\n",
    "$$ \\boldsymbol{\\dot{\\theta}} = J^{-1} \\dot{\\mathbf{y}} $$\n",
    "<br/> \n",
    "In most cases, the Jacobian is not symmetric, therefore the inverse of the Jacobian is not defined. So we use the **pseudo-inverse** of the Jacobian:\n",
    "\n",
    "<br/>\n",
    "$$ \\dot{\\boldsymbol{\\theta}} = J^{\\dagger} \\dot{\\mathbf{y}} $$\n",
    "<br/>\n",
    "Which tells us how changing joint angles $\\dot{\\boldsymbol{\\theta}}$ affects the change in end-effector position $\\dot{\\mathbf{y}}$. \n"
   ]
  },
  {
   "cell_type": "markdown",
   "metadata": {},
   "source": [
    "### Finding the Jacobian:\n",
    "<br/> \n",
    "<br/> \n",
    "<img src=\"images/Img-Kinematics.png\" style=\"width: 280px;\"> \n",
    "<br/> \n",
    "Where $a_i$ is the rotation axis $p_i$ is the position of the *i*th joint. \n",
    "\n",
    "#### Geometric Jacobian:\n",
    "<br/> \n",
    "<br/> \n",
    "<img src=\"images/Img-Kinematics_Jacob.png\" style=\"width: 580px;\"> \n"
   ]
  },
  {
   "cell_type": "code",
   "execution_count": 8,
   "metadata": {},
   "outputs": [],
   "source": [
    "# compute the geometric Jacobian  \n",
    "def geomJacobian(jnt2pos, jnt3pos, endEffPos):\n",
    "    \n",
    "    ai = np.array([0,0,1])\n",
    "    col0 = np.array(endEffPos + [0])\n",
    "    col1 = np.array(endEffPos + [0]) - np.array(jnt2pos + [0])\n",
    "    col2 = np.array(endEffPos + [0]) - np.array(jnt3pos + [0])\n",
    "    J = np.array([np.cross(ai,col0), np.cross(ai,col1), np.cross(ai,col2)]).T \n",
    "    return J\n"
   ]
  },
  {
   "cell_type": "markdown",
   "metadata": {},
   "source": [
    "### Jacobian Iterative Inverse Kinematics Algorithm: \n",
    "<img src=\"images/Img-Kinematics_algorithm.png\" style=\"width: 700px;\"> \n",
    "<br/>\n",
    "The Jacobian inverse technique then works by iteratively computing a change in joint angles $\\delta\\boldsymbol{\\theta}$ to reduce the error between the initial and target position.\n",
    "\n",
    "### Tasks:\n",
    "* Fill in the missing line of the algorithm that computes the $\\delta\\boldsymbol{\\theta}$ given $\\delta \\mathbf{y}$\n",
    "* Change the number of steps and explain the behaviour of the algorithm for small number of steps $\\approx 4$"
   ]
  },
  {
   "cell_type": "code",
   "execution_count": null,
   "metadata": {
    "scrolled": false
   },
   "outputs": [],
   "source": [
    "# Do forward kinematics for a set angle on each joint\n",
    "initTheta = np.array([np.deg2rad(45),np.deg2rad(45),np.deg2rad(-45)])\n",
    "target = np.array([-3,7.5])\n",
    "\n",
    "# compute FK\n",
    "T = arm.forwardKinematics(initTheta[0], initTheta[1], initTheta[2])\n",
    "# Find the x,y coordinates of joints 2, 3 and end effector so they can be plotted\n",
    "joint2pos, joint3pos, endEffectorPos = arm.findJointPos()\n",
    "\n",
    "# initialize theta\n",
    "newTheta = initTheta\n",
    "endEffectorPosInit = endEffectorPos\n",
    "\n",
    "# define the number of IK iterative steps \n",
    "steps = 20\n",
    "\n",
    "for i in range(steps):\n",
    "    \n",
    "    # obtain the Jacobian      \n",
    "    J = geomJacobian(joint2pos, joint3pos, endEffectorPos)\n",
    "    \n",
    "    # compute the dy steps\n",
    "    newgoal = endEffectorPosInit + (i*(target - endEffectorPosInit))/steps\n",
    "    deltaStep = newgoal - endEffectorPos\n",
    "    \n",
    "    # define the dy\n",
    "    subtarget = np.array([deltaStep[0], deltaStep[1], 0]) \n",
    "    \n",
    "    # compute dq from dy and pseudo-Jacobian\n",
    "    ### START CODE HERE\n",
    "\n",
    "    ### END CODE HERE\n",
    "    \n",
    "    # update the q\n",
    "    newTheta = newTheta + radTheta\n",
    "\n",
    "    # ----------- Do forward kinematics to plot the arm ---------------\n",
    "    # Do forward kinematics for a set angle on each joint\n",
    "    T = arm.forwardKinematics(newTheta[0],newTheta[1],newTheta[2])\n",
    "\n",
    "    # Find the x,y coordinates of joints 2, 3 and end effector so they can be plotted\n",
    "    joint2pos, joint3pos, endEffectorPos = arm.findJointPos()\n",
    "\n",
    "    # Plot the pose of the arm\n",
    "    plotArm(joint2pos, joint3pos, endEffectorPos, target)"
   ]
  },
  {
   "cell_type": "markdown",
   "metadata": {},
   "source": [
    "### References\n",
    "Craig, J.J., 2009. Introduction to robotics: mechanics and control, 3/E. Pearson Education India.\n",
    "\n",
    "RSS course slides: http://wcms.inf.ed.ac.uk/ipab/rss/lecture-notes-2018-2019/10%20RSS-Kinematics.pdf"
   ]
  }
 ],
 "metadata": {
  "kernelspec": {
   "display_name": "Python 3",
   "language": "python",
   "name": "python3"
  },
  "language_info": {
   "codemirror_mode": {
    "name": "ipython",
    "version": 3
   },
   "file_extension": ".py",
   "mimetype": "text/x-python",
   "name": "python",
   "nbconvert_exporter": "python",
   "pygments_lexer": "ipython3",
   "version": "3.6.8"
  }
 },
 "nbformat": 4,
 "nbformat_minor": 2
}
